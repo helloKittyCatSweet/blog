{
 "cells": [
  {
   "cell_type": "code",
   "execution_count": 5,
   "id": "4d0eb8ce-1bbb-45ee-b540-2d42a5863024",
   "metadata": {
    "execution": {
     "iopub.execute_input": "2025-03-28T13:43:25.174563Z",
     "iopub.status.busy": "2025-03-28T13:43:25.174071Z",
     "iopub.status.idle": "2025-03-28T13:43:28.548922Z",
     "shell.execute_reply": "2025-03-28T13:43:28.547828Z",
     "shell.execute_reply.started": "2025-03-28T13:43:25.174529Z"
    },
    "tags": []
   },
   "outputs": [
    {
     "name": "stdout",
     "output_type": "stream",
     "text": [
      "Looking in indexes: https://mirrors.tuna.tsinghua.edu.cn/pypi/web, https://pypi.mirrors.ustc.edu.cn/simple/\n",
      "Collecting seaborn\n",
      "  Downloading https://mirrors.ustc.edu.cn/pypi/packages/83/11/00d3c3dfc25ad54e731d91449895a79e4bf2384dc3ac01809010ba88f6d5/seaborn-0.13.2-py3-none-any.whl (294 kB)\n",
      "Requirement already satisfied: matplotlib in /usr/local/lib/python3.9/dist-packages (3.8.4)\n",
      "Requirement already satisfied: pandas in /usr/local/lib/python3.9/dist-packages (2.2.2)\n",
      "Requirement already satisfied: numpy!=1.24.0,>=1.20 in /usr/local/lib/python3.9/dist-packages (from seaborn) (1.26.4)\n",
      "Requirement already satisfied: contourpy>=1.0.1 in /usr/local/lib/python3.9/dist-packages (from matplotlib) (1.2.1)\n",
      "Requirement already satisfied: cycler>=0.10 in /usr/local/lib/python3.9/dist-packages (from matplotlib) (0.12.1)\n",
      "Requirement already satisfied: fonttools>=4.22.0 in /usr/local/lib/python3.9/dist-packages (from matplotlib) (4.51.0)\n",
      "Requirement already satisfied: kiwisolver>=1.3.1 in /usr/local/lib/python3.9/dist-packages (from matplotlib) (1.4.5)\n",
      "Requirement already satisfied: packaging>=20.0 in /usr/local/lib/python3.9/dist-packages (from matplotlib) (24.0)\n",
      "Requirement already satisfied: pillow>=8 in /usr/local/lib/python3.9/dist-packages (from matplotlib) (10.3.0)\n",
      "Requirement already satisfied: pyparsing>=2.3.1 in /usr/local/lib/python3.9/dist-packages (from matplotlib) (3.1.2)\n",
      "Requirement already satisfied: python-dateutil>=2.7 in /usr/local/lib/python3.9/dist-packages (from matplotlib) (2.9.0.post0)\n",
      "Requirement already satisfied: importlib-resources>=3.2.0 in /usr/local/lib/python3.9/dist-packages (from matplotlib) (6.4.0)\n",
      "Requirement already satisfied: pytz>=2020.1 in /usr/local/lib/python3.9/dist-packages (from pandas) (2024.1)\n",
      "Requirement already satisfied: tzdata>=2022.7 in /usr/local/lib/python3.9/dist-packages (from pandas) (2024.1)\n",
      "Requirement already satisfied: zipp>=3.1.0 in /usr/local/lib/python3.9/dist-packages (from importlib-resources>=3.2.0->matplotlib) (3.18.1)\n",
      "Requirement already satisfied: six>=1.5 in /usr/local/lib/python3.9/dist-packages (from python-dateutil>=2.7->matplotlib) (1.16.0)\n",
      "Installing collected packages: seaborn\n",
      "Successfully installed seaborn-0.13.2\n",
      "\u001b[33mWARNING: Running pip as the 'root' user can result in broken permissions and conflicting behaviour with the system package manager, possibly rendering your system unusable.It is recommended to use a virtual environment instead: https://pip.pypa.io/warnings/venv. Use the --root-user-action option if you know what you are doing and want to suppress this warning.\u001b[0m\u001b[33m\n",
      "\u001b[0m\n",
      "\u001b[1m[\u001b[0m\u001b[34;49mnotice\u001b[0m\u001b[1;39;49m]\u001b[0m\u001b[39;49m A new release of pip is available: \u001b[0m\u001b[31;49m24.3.1\u001b[0m\u001b[39;49m -> \u001b[0m\u001b[32;49m25.0.1\u001b[0m\n",
      "\u001b[1m[\u001b[0m\u001b[34;49mnotice\u001b[0m\u001b[1;39;49m]\u001b[0m\u001b[39;49m To update, run: \u001b[0m\u001b[32;49mpython -m pip install --upgrade pip\u001b[0m\n"
     ]
    }
   ],
   "source": [
    "# 安装画图必要的包\n",
    "!pip install seaborn matplotlib pandas"
   ]
  },
  {
   "cell_type": "code",
   "execution_count": 9,
   "id": "e8f6e633-c8e3-4fc5-a191-235857978190",
   "metadata": {
    "execution": {
     "iopub.execute_input": "2025-03-28T13:52:31.208513Z",
     "iopub.status.busy": "2025-03-28T13:52:31.207927Z",
     "iopub.status.idle": "2025-03-28T13:52:35.480851Z",
     "shell.execute_reply": "2025-03-28T13:52:35.480023Z",
     "shell.execute_reply.started": "2025-03-28T13:52:31.208479Z"
    },
    "tags": []
   },
   "outputs": [
    {
     "name": "stdout",
     "output_type": "stream",
     "text": [
      "\n",
      "=== 数据集分析 ===\n",
      "总样本数：3061\n",
      "\n",
      "输入文本长度统计：\n",
      "count     3061.000000\n",
      "mean     10749.701078\n",
      "std       5707.350756\n",
      "min       1559.000000\n",
      "25%       6814.000000\n",
      "50%       9510.000000\n",
      "75%      13264.000000\n",
      "max      53745.000000\n",
      "Name: input_length, dtype: float64\n",
      "\n",
      "输出文本长度统计：\n",
      "count    3061.000000\n",
      "mean      205.273113\n",
      "std        94.868247\n",
      "min        28.000000\n",
      "25%       136.000000\n",
      "50%       186.000000\n",
      "75%       258.000000\n",
      "max       852.000000\n",
      "Name: output_length, dtype: float64\n",
      "\n",
      "=== 训练参数建议 ===\n",
      "建议 MAX_SOURCE_LENGTH: 2048\n",
      "建议 batch_size: 2\n",
      "\n",
      "分布图已保存为 length_distribution.png\n"
     ]
    }
   ],
   "source": [
    "# 在 Notebook 单元格中运行\n",
    "#给出分析后的运行参数\n",
    "!python code/analyze.py"
   ]
  },
  {
   "cell_type": "code",
   "execution_count": 11,
   "id": "e6a881e2-0322-4e24-830d-bae70ad54229",
   "metadata": {
    "execution": {
     "iopub.execute_input": "2025-03-28T14:02:40.179327Z",
     "iopub.status.busy": "2025-03-28T14:02:40.178456Z",
     "iopub.status.idle": "2025-03-28T14:02:41.396231Z",
     "shell.execute_reply": "2025-03-28T14:02:41.395294Z",
     "shell.execute_reply.started": "2025-03-28T14:02:40.179289Z"
    },
    "tags": []
   },
   "outputs": [
    {
     "name": "stdout",
     "output_type": "stream",
     "text": [
      "peft                           0.13.2\n",
      "torch                          2.2.0\n",
      "transformers                   4.42.4\n"
     ]
    }
   ],
   "source": [
    "# 查看已安装的包\n",
    "!pip list | grep -E \"torch|transformers|peft\""
   ]
  },
  {
   "cell_type": "code",
   "execution_count": null,
   "id": "6cc75900-c230-4fd2-973c-7bdf714fe196",
   "metadata": {
    "execution": {
     "iopub.execute_input": "2025-03-28T14:09:14.550317Z",
     "iopub.status.busy": "2025-03-28T14:09:14.549841Z",
     "iopub.status.idle": "2025-03-28T14:09:35.580134Z",
     "shell.execute_reply": "2025-03-28T14:09:35.579246Z",
     "shell.execute_reply.started": "2025-03-28T14:09:14.550283Z"
    },
    "tags": []
   },
   "outputs": [
    {
     "name": "stdout",
     "output_type": "stream",
     "text": [
      "Special tokens have been added in the vocabulary, make sure the associated word embeddings are fine-tuned or trained.\n",
      "Loading checkpoint shards: 100%|██████████████████| 4/4 [00:11<00:00,  2.84s/it]\n",
      "/usr/local/lib/python3.9/dist-packages/bitsandbytes/cextension.py:34: UserWarning: The installed version of bitsandbytes was compiled without GPU support. 8-bit optimizers, 8-bit multiplication, and GPU quantization are unavailable.\n",
      "  warn(\"The installed version of bitsandbytes was compiled without GPU support. \"\n",
      "/usr/local/lib/python3.9/dist-packages/bitsandbytes/libbitsandbytes_cpu.so: undefined symbol: cadam32bit_grad_fp32\n",
      "/usr/local/lib/python3.9/dist-packages/transformers/training_args.py:1494: FutureWarning: `evaluation_strategy` is deprecated and will be removed in version 4.46 of 🤗 Transformers. Use `eval_strategy` instead\n",
      "  warnings.warn(\n",
      "Detected kernel version 3.10.0, which is below the recommended minimum of 5.5.0; this can cause the process to hang. It is recommended to upgrade the kernel to the minimum version or higher.\n",
      "Traceback (most recent call last):\n",
      "  File \"/work/code/train.py\", line 58, in <module>\n",
      "    trainer.train()\n",
      "  File \"/usr/local/lib/python3.9/dist-packages/transformers/trainer.py\", line 1932, in train\n",
      "    return inner_training_loop(\n",
      "  File \"/usr/local/lib/python3.9/dist-packages/transformers/trainer.py\", line 1961, in _inner_training_loop\n",
      "    train_dataloader = self.get_train_dataloader()\n",
      "  File \"/usr/local/lib/python3.9/dist-packages/transformers/trainer.py\", line 886, in get_train_dataloader\n",
      "    train_dataset = self._remove_unused_columns(train_dataset, description=\"training\")\n",
      "  File \"/usr/local/lib/python3.9/dist-packages/transformers/trainer.py\", line 814, in _remove_unused_columns\n",
      "    raise ValueError(\n",
      "ValueError: No columns in the dataset match the model's forward method signature. The following columns have been ignored: [system, history, instruction, input, output]. Please check the dataset and model. You may need to set `remove_unused_columns=False` in `TrainingArguments`.\n"
     ]
    }
   ],
   "source": [
    "# 执行训练\n",
    "!python train.py"
   ]
  },
  {
   "cell_type": "code",
   "execution_count": null,
   "id": "05c25b0e-25b2-4d8e-bcfb-e85f133f9575",
   "metadata": {},
   "outputs": [],
   "source": []
  }
 ],
 "metadata": {
  "kernelspec": {
   "display_name": "MaaS-Console",
   "language": "python",
   "name": "maas-console"
  },
  "language_info": {
   "codemirror_mode": {
    "name": "ipython",
    "version": 3
   },
   "file_extension": ".py",
   "mimetype": "text/x-python",
   "name": "python",
   "nbconvert_exporter": "python",
   "pygments_lexer": "ipython3",
   "version": "3.9.5"
  }
 },
 "nbformat": 4,
 "nbformat_minor": 5
}
